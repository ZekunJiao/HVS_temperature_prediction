{
 "cells": [
  {
   "cell_type": "code",
   "execution_count": 1,
   "metadata": {},
   "outputs": [
    {
     "name": "stdout",
     "output_type": "stream",
     "text": [
      "tensor([3.], device='cuda:0')\n"
     ]
    }
   ],
   "source": [
    "import os\n",
    "os.environ[\"KMP_DUPLICATE_LIB_OK\"] = \"TRUE\"\n",
    "import torch\n",
    "import torch.nn as nn\n",
    "import torch.optim as optim\n",
    "import numpy as np\n",
    "import matplotlib.pyplot as plt\n",
    "import pandas as pd\n",
    "# Define the PINN model as a fully connected neural networ\n",
    "a = torch.tensor([1.0], device=\"cuda\")\n",
    "b = torch.tensor([2.0], device=\"cuda\")\n",
    "c = a + b\n",
    "print(c)"
   ]
  },
  {
   "cell_type": "code",
   "execution_count": null,
   "metadata": {},
   "outputs": [
    {
     "name": "stdout",
     "output_type": "stream",
     "text": [
      "(459840, 4)\n"
     ]
    }
   ],
   "source": [
    "\n",
    "from torch.utils.data import TensorDataset, DataLoader\n",
    "\n",
    "df = pd.read_csv(\"../simulation_data/simulation_fixed_v3.csv\")\n",
    "df = df[df[\"t\"] >= 12]\n",
    "X_data = df[['x', 'y', 't']].values.astype(np.float32)\n",
    "y_data = df['temperature'].values.astype(np.float32).reshape(-1, 1)\n",
    "\n",
    "# Optionally, you can normalize the inputs if needed. For example:\n",
    "# X_data = (X_data - X_data.mean(axis=0)) / X_data.std(axis=0)\n",
    "\n",
    "# Create PyTorch tensors\n",
    "inputs_tensor = torch.tensor(X_data)\n",
    "targets_tensor = torch.tensor(y_data)\n",
    "\n",
    "# Create a Dataset and DataLoader for batching\n",
    "dataset = TensorDataset(inputs_tensor, targets_tensor)\n",
    "dataloader = DataLoader(dataset, batch_size=32, shuffle=True)"
   ]
  },
  {
   "cell_type": "code",
   "execution_count": 6,
   "metadata": {},
   "outputs": [
    {
     "name": "stdout",
     "output_type": "stream",
     "text": [
      "tensor([[[0.0000, 0.0101, 0.0202, 0.0303, 0.0404, 0.0505, 0.0606, 0.0707,\n",
      "          0.0808, 0.0909, 0.1010, 0.1111, 0.1212, 0.1313, 0.1414, 0.1515,\n",
      "          0.1616, 0.1717, 0.1818, 0.1919, 0.2020, 0.2121, 0.2222, 0.2323,\n",
      "          0.2424, 0.2525, 0.2626, 0.2727, 0.2828, 0.2929, 0.3030, 0.3131,\n",
      "          0.3232, 0.3333, 0.3434, 0.3535, 0.3636, 0.3737, 0.3838, 0.3939,\n",
      "          0.4040, 0.4141, 0.4242, 0.4343, 0.4444, 0.4545, 0.4646, 0.4747,\n",
      "          0.4848, 0.4949, 0.5051, 0.5152, 0.5253, 0.5354, 0.5455, 0.5556,\n",
      "          0.5657, 0.5758, 0.5859, 0.5960, 0.6061, 0.6162, 0.6263, 0.6364,\n",
      "          0.6465, 0.6566, 0.6667, 0.6768, 0.6869, 0.6970, 0.7071, 0.7172,\n",
      "          0.7273, 0.7374, 0.7475, 0.7576, 0.7677, 0.7778, 0.7879, 0.7980,\n",
      "          0.8081, 0.8182, 0.8283, 0.8384, 0.8485, 0.8586, 0.8687, 0.8788,\n",
      "          0.8889, 0.8990, 0.9091, 0.9192, 0.9293, 0.9394, 0.9495, 0.9596,\n",
      "          0.9697, 0.9798, 0.9899, 1.0000]]])\n"
     ]
    }
   ],
   "source": [
    "a = torch.tensor([1, 2, 3])\n",
    "b = torch.tensor([4, 5, 6])\n",
    "torch.dstack((a,b))\n",
    "a = torch.tensor([[1,3,4],[2,5,6],[3,8,9]])\n",
    "b = torch.tensor([[4,3,3],[5,32,2],[6,4,11]])\n",
    "torch.dstack((a,b))\n",
    "y_plot = torch.linspace(0, 1, 100).reshape(1, 1, -1)\n",
    "print(y_plot)"
   ]
  },
  {
   "cell_type": "code",
   "execution_count": null,
   "metadata": {},
   "outputs": [],
   "source": [
    "class Surrogate(nn.Module):\n",
    "    def __init__(self, hidden_size=128):\n",
    "        super(Surrogate, self).__init__()\n",
    "        self.model = nn.Sequential(\n",
    "            nn.Linear(3, hidden_size),\n",
    "            nn.ReLU(),\n",
    "            nn.Linear(hidden_size, hidden_size),\n",
    "            nn.ReLU(),\n",
    "            nn.Linear(hidden_size, 1)\n",
    "        )\n",
    "        \n",
    "    def forward(self, x):\n",
    "        return self.model(x)\n",
    "    \n",
    "model = Surrogate()\n",
    "\n",
    "# Define loss and optimizer\n",
    "criterion = nn.MSELoss()\n",
    "optimizer = optim.Adam(model.parameters(), lr=1e-3)\n",
    "\n",
    "# Training loop\n",
    "num_epochs = 20\n",
    "for epoch in range(num_epochs):\n",
    "    epoch_loss = 0\n",
    "    for batch_inputs, batch_targets in dataloader:\n",
    "        optimizer.zero_grad()\n",
    "        predictions = model(batch_inputs)\n",
    "        loss = criterion(predictions, batch_targets)\n",
    "        loss.backward()\n",
    "        optimizer.step()\n",
    "        epoch_loss += loss.item()\n",
    "    print(f\"Epoch {epoch+1}/{num_epochs}, Loss: {epoch_loss/len(dataloader)}\")"
   ]
  },
  {
   "cell_type": "code",
   "execution_count": null,
   "metadata": {},
   "outputs": [],
   "source": [
    "x = torch.linspace(0, 40, 40)\n",
    "y = torch.linspace(0, 24, 24)\n",
    "xx, yy = torch.meshgrid([x, y])\n",
    "\n",
    "x_eval = xx.flatten()\n",
    "y_eval = yy.flatten()\n",
    "t = 500 * torch.ones(x_eval.shape)\n",
    "print(x_eval.shape)\n",
    "pred = model(torch.vstack([x_eval, y_eval, t]).T)\n",
    "\n",
    "pred = pred.reshape(40, 24)\n",
    "\n",
    "plt.figure(figsize=(8, 6))\n",
    "cp = plt.imshow(pred.detach(), cmap='viridis')\n",
    "plt.colorbar(cp)\n",
    "plt.xlabel('x')\n",
    "plt.ylabel('y')\n",
    "plt.title('Predicted Solution u(x,t)')\n",
    "plt.show()\n"
   ]
  },
  {
   "cell_type": "code",
   "execution_count": null,
   "metadata": {},
   "outputs": [],
   "source": [
    "import torch\n",
    "import matplotlib.pyplot as plt\n",
    "import matplotlib.animation as animation\n",
    "import numpy as np\n",
    "from IPython.display import HTML\n",
    "\n",
    "# Define spatial grid\n",
    "x = torch.linspace(0, 40, 40)\n",
    "y = torch.linspace(0, 24, 24)\n",
    "xx, yy = torch.meshgrid([x, y])\n",
    "\n",
    "# Flatten x and y coordinates\n",
    "x_eval = xx.flatten()\n",
    "y_eval = yy.flatten()\n",
    "\n",
    "# Define time steps\n",
    "time_steps = torch.linspace(0, 1000, 200)  \n",
    "\n",
    "# Set up figure and axis\n",
    "fig, ax = plt.subplots(figsize=(8, 6))\n",
    "cp = ax.imshow(np.zeros((40, 24)).T, cmap='viridis', vmin=28, vmax=50)  # Initialize empty frame\n",
    "cbar = plt.colorbar(cp)\n",
    "ax.set_xlabel('x')\n",
    "ax.set_ylabel('y')\n",
    "ax.set_title('Predicted Solution u(x,t)')\n",
    "\n",
    "# Function to update the frame\n",
    "def update(frame):\n",
    "    t = time_steps[frame] * torch.ones(x_eval.shape)  # Update time\n",
    "    pred = model(torch.vstack([x_eval, y_eval, t]).T)  # Get predictions\n",
    "    pred = pred.reshape(40, 24).T.detach().numpy()  # Reshape for plotting\n",
    "    \n",
    "    cp.set_data(pred.T)\n",
    "    ax.set_title(f'Predicted Solution u(x,t) at t={int(t[0].item())}')  # Update title\n",
    "\n",
    "    return [cp]\n",
    "\n",
    "# Create animation\n",
    "ani = animation.FuncAnimation(fig, update, frames=len(time_steps), interval=100, blit=False)\n",
    "\n",
    "# Display animation in Jupyter Notebook\n",
    "HTML(ani.to_jshtml())\n"
   ]
  },
  {
   "cell_type": "code",
   "execution_count": null,
   "metadata": {},
   "outputs": [],
   "source": []
  }
 ],
 "metadata": {
  "kernelspec": {
   "display_name": "exploration",
   "language": "python",
   "name": "python3"
  },
  "language_info": {
   "codemirror_mode": {
    "name": "ipython",
    "version": 3
   },
   "file_extension": ".py",
   "mimetype": "text/x-python",
   "name": "python",
   "nbconvert_exporter": "python",
   "pygments_lexer": "ipython3",
   "version": "3.12.7"
  }
 },
 "nbformat": 4,
 "nbformat_minor": 2
}
